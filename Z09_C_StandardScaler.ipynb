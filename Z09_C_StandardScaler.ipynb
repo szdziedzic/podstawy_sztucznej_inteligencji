{
  "cells": [
    {
      "cell_type": "code",
      "execution_count": 1,
      "metadata": {
        "id": "PSd3bNiGzVZO"
      },
      "outputs": [],
      "source": [
        "import numpy as np\n",
        "import pandas as pd\n",
        "import matplotlib.pyplot as plt"
      ]
    },
    {
      "cell_type": "markdown",
      "metadata": {
        "id": "zy6J315nzVZP"
      },
      "source": [
        "# Skalowania danych\n",
        "\n",
        "- Pamiętaj aby zawsze uczyć parametry skalowania na trainie a nie na całym zbiorze danych bo inaczej popełniasz błąd metodologiczny."
      ]
    },
    {
      "cell_type": "code",
      "execution_count": 2,
      "metadata": {
        "id": "XUPm9uSSzVZQ"
      },
      "outputs": [],
      "source": [
        "from sklearn.datasets import load_breast_cancer\n",
        "cancer = load_breast_cancer()\n",
        "\n",
        "# get the data\n",
        "X = cancer.data\n",
        "y = cancer.target\n",
        "\n",
        "from sklearn.model_selection import train_test_split\n",
        "# split it into training and test sets\n",
        "X_train, X_test = train_test_split(X, random_state=5, test_size=.1)"
      ]
    },
    {
      "cell_type": "markdown",
      "metadata": {
        "id": "DKmmncjZzVZR"
      },
      "source": [
        "* Zobaczmy efekt użycia StandardScaler oraz SVC. \n",
        "\n",
        "* Najpierw wykonajmy SVC na oryginalnych danych dla porównania:"
      ]
    },
    {
      "cell_type": "code",
      "execution_count": 3,
      "metadata": {
        "id": "h-cAdWKAzVZS",
        "outputId": "d0ff0d3a-cd95-4321-88a9-0a44fc1f9985",
        "colab": {
          "base_uri": "https://localhost:8080/"
        }
      },
      "outputs": [
        {
          "output_type": "stream",
          "name": "stdout",
          "text": [
            "Test set accuracy: 0.95\n"
          ]
        }
      ],
      "source": [
        "from sklearn.svm import SVC\n",
        "X_train, X_test, y_train, y_test = train_test_split(cancer.data, cancer.target, random_state=5) \n",
        "svm = SVC()\n",
        "svm.fit(X_train, y_train)\n",
        "print(\"Test set accuracy: {:.2f}\".format(svm.score(X_test, y_test)))"
      ]
    },
    {
      "cell_type": "markdown",
      "metadata": {
        "id": "FZW6LhuuzVZT"
      },
      "source": [
        "Teraz przeskalujmy dane za pomocą StandardScaler przed dopasowaniem SVC:"
      ]
    },
    {
      "cell_type": "code",
      "execution_count": 4,
      "metadata": {
        "id": "AmbwUC_vzVZU",
        "outputId": "303b13ba-dec8-4405-a856-34e46e09790c",
        "colab": {
          "base_uri": "https://localhost:8080/"
        }
      },
      "outputs": [
        {
          "output_type": "stream",
          "name": "stdout",
          "text": [
            "Scaled test set accuracy: 0.97\n"
          ]
        }
      ],
      "source": [
        "# preprocessing using 0-1 scaling\n",
        "from sklearn.preprocessing import StandardScaler\n",
        "\n",
        "scaler = StandardScaler()\n",
        "scaler.fit(X_train)\n",
        "X_train_scaled = scaler.transform(X_train)\n",
        "X_test_scaled = scaler.transform(X_test)\n",
        "# learning an SVM on the scaled training data\n",
        "svm.fit(X_train_scaled, y_train)\n",
        "# scoring on the scaled test set\n",
        "print(\"Scaled test set accuracy: {:.2f}\".format( svm.score(X_test_scaled, y_test)))"
      ]
    },
    {
      "cell_type": "markdown",
      "metadata": {
        "id": "j3xgvrpuzVZV"
      },
      "source": [
        "Efekt skalowania danych jest dość znaczący. Mimo że skalowanie danych nie wiąże się z żadną skomplikowaną matematyką, dobrą praktyką jest używanie mechanizmów skalowania dostarczanych przez scikit-learn zamiast samodzielnego ich klepać."
      ]
    },
    {
      "cell_type": "markdown",
      "metadata": {
        "id": "R18RMUoQzVZW"
      },
      "source": [
        "# Zad. \n",
        "\n",
        "Wykonaj podobny eksperyment na \n",
        "\n",
        "```python\n",
        "datasets.load_wine()\n",
        "```"
      ]
    },
    {
      "cell_type": "code",
      "execution_count": 5,
      "metadata": {
        "id": "jF8P3pMPzVZW"
      },
      "outputs": [],
      "source": [
        "from sklearn.datasets import load_wine\n",
        "wine = load_wine()\n",
        "\n",
        "X = wine.data\n",
        "y = wine.target"
      ]
    },
    {
      "cell_type": "code",
      "execution_count": 12,
      "metadata": {
        "id": "OkD44x-EzVZX"
      },
      "outputs": [],
      "source": [
        "from sklearn.model_selection import train_test_split\n",
        "# split it into training and test sets\n",
        "X_train, X_test = train_test_split(X, random_state=5, test_size=.1)"
      ]
    },
    {
      "cell_type": "code",
      "execution_count": 13,
      "metadata": {
        "id": "1VWy0hJezVZX",
        "outputId": "8f31a63d-99d9-466d-8234-89db963ee74f",
        "colab": {
          "base_uri": "https://localhost:8080/"
        }
      },
      "outputs": [
        {
          "output_type": "stream",
          "name": "stdout",
          "text": [
            "Test set accuracy: 0.64\n"
          ]
        }
      ],
      "source": [
        "X_train, X_test, y_train, y_test = train_test_split(wine.data, wine.target, random_state=5) \n",
        "svm = SVC()\n",
        "svm.fit(X_train, y_train)\n",
        "print(\"Test set accuracy: {:.2f}\".format(svm.score(X_test, y_test)))"
      ]
    },
    {
      "cell_type": "code",
      "execution_count": 14,
      "metadata": {
        "id": "R7ftYNJOzVZX",
        "outputId": "78bb80dc-d5d5-4f40-a91a-7c10134c6d1d",
        "colab": {
          "base_uri": "https://localhost:8080/"
        }
      },
      "outputs": [
        {
          "output_type": "stream",
          "name": "stdout",
          "text": [
            "Scaled test set accuracy: 0.96\n"
          ]
        }
      ],
      "source": [
        "# preprocessing using 0-1 scaling\n",
        "from sklearn.preprocessing import StandardScaler\n",
        "\n",
        "scaler = StandardScaler()\n",
        "scaler.fit(X_train)\n",
        "X_train_scaled = scaler.transform(X_train)\n",
        "X_test_scaled = scaler.transform(X_test)\n",
        "# learning an SVM on the scaled training data\n",
        "svm.fit(X_train_scaled, y_train)\n",
        "# scoring on the scaled test set\n",
        "print(\"Scaled test set accuracy: {:.2f}\".format( svm.score(X_test_scaled, y_test)))"
      ]
    },
    {
      "cell_type": "code",
      "execution_count": null,
      "metadata": {
        "id": "-Cu9Rk8wzVZX"
      },
      "outputs": [],
      "source": [
        ""
      ]
    }
  ],
  "metadata": {
    "kernelspec": {
      "display_name": "Python 3",
      "language": "python",
      "name": "python3"
    },
    "language_info": {
      "codemirror_mode": {
        "name": "ipython",
        "version": 3
      },
      "file_extension": ".py",
      "mimetype": "text/x-python",
      "name": "python",
      "nbconvert_exporter": "python",
      "pygments_lexer": "ipython3",
      "version": "3.7.3"
    },
    "colab": {
      "name": "Z09_C_StandardScaler.ipynb",
      "provenance": []
    }
  },
  "nbformat": 4,
  "nbformat_minor": 0
}