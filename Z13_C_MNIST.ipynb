{
  "cells": [
    {
      "cell_type": "code",
      "execution_count": 1,
      "metadata": {
        "id": "MaHyXFrYvoE0",
        "outputId": "834eda6b-e5a7-4d6c-b998-de8ca6772695",
        "colab": {
          "base_uri": "https://localhost:8080/"
        }
      },
      "outputs": [
        {
          "output_type": "stream",
          "name": "stdout",
          "text": [
            "2.8.2\n",
            "2.8.0\n"
          ]
        }
      ],
      "source": [
        "import tensorflow as tf\n",
        "import tensorflow.keras as keras\n",
        "print(tf.__version__)\n",
        "\n",
        "print(keras.__version__)\n",
        "\n",
        "from numpy.random import seed\n",
        "seed(123)"
      ]
    },
    {
      "cell_type": "code",
      "execution_count": 2,
      "metadata": {
        "id": "YbnkKueMvoE1"
      },
      "outputs": [],
      "source": [
        "import numpy as np\n",
        "import pandas as pd\n",
        "import matplotlib.pyplot as plt\n",
        "import os"
      ]
    },
    {
      "cell_type": "code",
      "execution_count": 3,
      "metadata": {
        "id": "C5rT8Q5nvoE1"
      },
      "outputs": [],
      "source": [
        "from tensorflow.keras.datasets import mnist"
      ]
    },
    {
      "cell_type": "code",
      "execution_count": 4,
      "metadata": {
        "id": "IJIHAI3ivoE2"
      },
      "outputs": [],
      "source": [
        "from keras.datasets import mnist"
      ]
    },
    {
      "cell_type": "markdown",
      "metadata": {
        "id": "QetglHbkvoE2"
      },
      "source": [
        "# Zad \n",
        "Pibierz zbiór danych"
      ]
    },
    {
      "cell_type": "code",
      "execution_count": 5,
      "metadata": {
        "id": "n6qlanoAvoE3",
        "outputId": "b1c1a20e-2be9-4940-bb7f-adbd2bb382ad",
        "colab": {
          "base_uri": "https://localhost:8080/"
        }
      },
      "outputs": [
        {
          "output_type": "stream",
          "name": "stdout",
          "text": [
            "Downloading data from https://storage.googleapis.com/tensorflow/tf-keras-datasets/mnist.npz\n",
            "11493376/11490434 [==============================] - 0s 0us/step\n",
            "11501568/11490434 [==============================] - 0s 0us/step\n",
            "(60000, 28, 28, 1)\n",
            "(10000, 28, 28, 1)\n",
            "(array([0, 1, 2, 3, 4, 5, 6, 7, 8, 9], dtype=uint8), array([5923, 6742, 5958, 6131, 5842, 5421, 5918, 6265, 5851, 5949]))\n",
            "(28, 28, 1)\n"
          ]
        }
      ],
      "source": [
        "from keras.datasets import mnist\n",
        "from keras.utils import np_utils\n",
        "# from scipy.misc import toimage\n",
        "\n",
        "import numpy as np\n",
        "\n",
        "# load data\n",
        "(X_train, y_train), (X_test, y_test) = mnist.load_data()\n",
        "\n",
        "\n",
        "# X_train = X_train.reshape(X_train.shape[0], 1, 28, 28)\n",
        "# X_test = X_test.reshape(X_test.shape[0], 1, 28, 28)\n",
        "X_train = X_train.reshape(X_train.shape[0], 28, 28, 1)\n",
        "X_test = X_test.reshape(X_test.shape[0], 28, 28, 1)\n",
        "\n",
        "print(X_train.shape)\n",
        "print(X_test.shape)\n",
        "print(np.unique(y_train,return_counts=True))\n",
        "print(X_train[0].shape)\n",
        "\n",
        "nb_classes = len(np.unique(y_train))\n",
        "n_samples = X_train.shape[0]"
      ]
    },
    {
      "cell_type": "code",
      "execution_count": 6,
      "metadata": {
        "id": "N-wuUiYzvoE3",
        "outputId": "234942da-97a0-4cdf-cf37-4f51ec51a6f8",
        "colab": {
          "base_uri": "https://localhost:8080/",
          "height": 432
        }
      },
      "outputs": [
        {
          "output_type": "display_data",
          "data": {
            "text/plain": [
              "<Figure size 1080x576 with 10 Axes>"
            ],
            "image/png": "[encoded data removed]"
          },
          "metadata": {}
        }
      ],
      "source": [
        "fig, axes = plt.subplots(2, 5, figsize=(15, 8), subplot_kw={'xticks': (), 'yticks': ()})\n",
        "for target, image, ax in zip(y_train, X_train, axes.ravel()):\n",
        "    ax.imshow(image.reshape(28, 28), cmap=plt.cm.gist_gray)\n",
        "    ax.set_title(target)\n",
        "plt.show() "
      ]
    },
    {
      "cell_type": "code",
      "execution_count": 7,
      "metadata": {
        "id": "AfAuQjOSvoE4",
        "outputId": "58cd2095-08d9-4044-a482-6b735a5a6a64",
        "colab": {
          "base_uri": "https://localhost:8080/"
        }
      },
      "outputs": [
        {
          "output_type": "execute_result",
          "data": {
            "text/plain": [
              "255"
            ]
          },
          "metadata": {},
          "execution_count": 7
        }
      ],
      "source": [
        "np.max(X_train[0])"
      ]
    },
    {
      "cell_type": "markdown",
      "metadata": {
        "id": "c9O07eJ0voE4"
      },
      "source": [
        "### Normalize"
      ]
    },
    {
      "cell_type": "code",
      "execution_count": 8,
      "metadata": {
        "id": "8jYKa_o1voE4",
        "outputId": "45637983-e7fa-431d-c060-f3e56810cac4",
        "colab": {
          "base_uri": "https://localhost:8080/"
        }
      },
      "outputs": [
        {
          "output_type": "execute_result",
          "data": {
            "text/plain": [
              "(28, 28, 1)"
            ]
          },
          "metadata": {},
          "execution_count": 8
        }
      ],
      "source": [
        "# normalize inputs from 0-255 to 0.0-1.0\n",
        "\n",
        "X_train = X_train/255\n",
        "X_test = X_test/255\n",
        "\n",
        "# one hot encode outputs\n",
        "y_train = np_utils.to_categorical(y_train)\n",
        "y_test = np_utils.to_categorical(y_test)\n",
        "\n",
        "num_classes = y_test.shape[1]\n",
        "\n",
        "X_train[0].shape"
      ]
    },
    {
      "cell_type": "code",
      "execution_count": 9,
      "metadata": {
        "id": "DFGvld8OvoE5",
        "outputId": "26be045a-fecb-4d08-b414-a06caf024266",
        "colab": {
          "base_uri": "https://localhost:8080/"
        }
      },
      "outputs": [
        {
          "output_type": "execute_result",
          "data": {
            "text/plain": [
              "1.0"
            ]
          },
          "metadata": {},
          "execution_count": 9
        }
      ],
      "source": [
        "np.max(X_train[0])"
      ]
    },
    {
      "cell_type": "markdown",
      "metadata": {
        "id": "rVDRQ0D1voE5"
      },
      "source": [
        "# Zad\n",
        "Przekopiuj architekturę:\n",
        "\n",
        "https://github.com/keras-team/keras/blob/master/examples/mnist_cnn.py"
      ]
    },
    {
      "cell_type": "code",
      "execution_count": 10,
      "metadata": {
        "id": "QSzrMTYMvoE5"
      },
      "outputs": [],
      "source": [
        "from keras.models import Sequential\n",
        "from keras.layers import Dense\n",
        "from keras.callbacks import LearningRateScheduler\n",
        "from keras.callbacks import ModelCheckpoint\n",
        "from keras.callbacks import EarlyStopping\n",
        "from keras.layers import Dropout\n",
        "from keras.layers import BatchNormalization\n",
        "from keras.layers import Activation\n",
        "from keras.layers import Flatten\n",
        "from keras.layers.convolutional import Conv2D, MaxPooling2D, AveragePooling2D\n",
        "from keras.callbacks import History"
      ]
    },
    {
      "cell_type": "code",
      "execution_count": 11,
      "metadata": {
        "id": "iCo8rxPtvoE5",
        "outputId": "da708bad-bdf6-48f3-d74d-4cd654fc24ce",
        "colab": {
          "base_uri": "https://localhost:8080/"
        }
      },
      "outputs": [
        {
          "output_type": "stream",
          "name": "stdout",
          "text": [
            "Model: \"sequential\"\n",
            "_________________________________________________________________\n",
            " Layer (type)                Output Shape              Param #   \n",
            "=================================================================\n",
            " conv2d (Conv2D)             (None, 26, 26, 32)        320       \n",
            "                                                                 \n",
            " max_pooling2d (MaxPooling2D  (None, 13, 13, 32)       0         \n",
            " )                                                               \n",
            "                                                                 \n",
            " conv2d_1 (Conv2D)           (None, 11, 11, 64)        18496     \n",
            "                                                                 \n",
            " max_pooling2d_1 (MaxPooling  (None, 5, 5, 64)         0         \n",
            " 2D)                                                             \n",
            "                                                                 \n",
            " flatten (Flatten)           (None, 1600)              0         \n",
            "                                                                 \n",
            " dropout (Dropout)           (None, 1600)              0         \n",
            "                                                                 \n",
            " dense (Dense)               (None, 10)                16010     \n",
            "                                                                 \n",
            "=================================================================\n",
            "Total params: 34,826\n",
            "Trainable params: 34,826\n",
            "Non-trainable params: 0\n",
            "_________________________________________________________________\n",
            "Epoch 1/15\n",
            "422/422 [==============================] - 43s 100ms/step - loss: 0.3738 - accuracy: 0.8852 - val_loss: 0.0825 - val_accuracy: 0.9780\n",
            "Epoch 2/15\n",
            "422/422 [==============================] - 42s 99ms/step - loss: 0.1173 - accuracy: 0.9649 - val_loss: 0.0598 - val_accuracy: 0.9858\n",
            "Epoch 3/15\n",
            "422/422 [==============================] - 42s 100ms/step - loss: 0.0874 - accuracy: 0.9734 - val_loss: 0.0473 - val_accuracy: 0.9870\n",
            "Epoch 4/15\n",
            "422/422 [==============================] - 43s 101ms/step - loss: 0.0713 - accuracy: 0.9784 - val_loss: 0.0462 - val_accuracy: 0.9865\n",
            "Epoch 5/15\n",
            "422/422 [==============================] - 42s 98ms/step - loss: 0.0622 - accuracy: 0.9806 - val_loss: 0.0392 - val_accuracy: 0.9895\n",
            "Epoch 6/15\n",
            "422/422 [==============================] - 41s 98ms/step - loss: 0.0570 - accuracy: 0.9821 - val_loss: 0.0384 - val_accuracy: 0.9893\n",
            "Epoch 7/15\n",
            "422/422 [==============================] - 41s 98ms/step - loss: 0.0512 - accuracy: 0.9838 - val_loss: 0.0342 - val_accuracy: 0.9915\n",
            "Epoch 8/15\n",
            "422/422 [==============================] - 41s 98ms/step - loss: 0.0495 - accuracy: 0.9847 - val_loss: 0.0338 - val_accuracy: 0.9903\n",
            "Epoch 9/15\n",
            "422/422 [==============================] - 41s 98ms/step - loss: 0.0461 - accuracy: 0.9856 - val_loss: 0.0390 - val_accuracy: 0.9902\n",
            "Epoch 10/15\n",
            "422/422 [==============================] - 42s 101ms/step - loss: 0.0424 - accuracy: 0.9861 - val_loss: 0.0347 - val_accuracy: 0.9908\n",
            "Epoch 11/15\n",
            "422/422 [==============================] - 41s 98ms/step - loss: 0.0408 - accuracy: 0.9865 - val_loss: 0.0305 - val_accuracy: 0.9927\n",
            "Epoch 12/15\n",
            "422/422 [==============================] - 41s 98ms/step - loss: 0.0374 - accuracy: 0.9878 - val_loss: 0.0316 - val_accuracy: 0.9923\n",
            "Epoch 13/15\n",
            "422/422 [==============================] - 41s 98ms/step - loss: 0.0353 - accuracy: 0.9891 - val_loss: 0.0291 - val_accuracy: 0.9928\n",
            "Epoch 14/15\n",
            "422/422 [==============================] - 41s 98ms/step - loss: 0.0348 - accuracy: 0.9890 - val_loss: 0.0307 - val_accuracy: 0.9922\n",
            "Epoch 15/15\n",
            "422/422 [==============================] - 41s 98ms/step - loss: 0.0339 - accuracy: 0.9886 - val_loss: 0.0320 - val_accuracy: 0.9908\n"
          ]
        },
        {
          "output_type": "execute_result",
          "data": {
            "text/plain": [
              "<keras.callbacks.History at 0x7f484a774b50>"
            ]
          },
          "metadata": {},
          "execution_count": 11
        }
      ],
      "source": [
        "history_1 = History()\n",
        "\n",
        "model = keras.Sequential(\n",
        "    [\n",
        "        keras.Input(shape=X_train.shape[1:]),\n",
        "        Conv2D(32, kernel_size=(3, 3), activation=\"relu\"),\n",
        "        MaxPooling2D(pool_size=(2, 2)),\n",
        "        Conv2D(64, kernel_size=(3, 3), activation=\"relu\"),\n",
        "        MaxPooling2D(pool_size=(2, 2)),\n",
        "        Flatten(),\n",
        "        Dropout(0.5),\n",
        "        Dense(num_classes, activation=\"softmax\"),\n",
        "    ]\n",
        ")\n",
        "\n",
        "model.summary()\n",
        "\n",
        "model.compile(loss=\"categorical_crossentropy\", optimizer=\"adam\", metrics=[\"accuracy\"])\n",
        "\n",
        "model.fit(X_train, y_train, batch_size=128, epochs=15, validation_split=0.1, callbacks=[history_1])"
      ]
    },
    {
      "cell_type": "code",
      "execution_count": 12,
      "metadata": {
        "id": "UMCic5VKvoE6",
        "outputId": "9844c0c8-5894-4f01-9473-3aa727f126a8",
        "colab": {
          "base_uri": "https://localhost:8080/",
          "height": 265
        }
      },
      "outputs": [
        {
          "output_type": "display_data",
          "data": {
            "text/plain": [
              "<Figure size 432x288 with 1 Axes>"
            ],
            "image/png": "[encoded data removed]"
          },
          "metadata": {
            "needs_background": "light"
          }
        }
      ],
      "source": [
        "plt.plot(history_1.history['accuracy'], label = \"tarina Adam\")\n",
        "plt.plot(history_1.history['val_accuracy'], label = \"test Adam\")\n",
        "\n",
        "\n",
        "plt.legend()\n",
        "plt.show()"
      ]
    },
    {
      "cell_type": "code",
      "execution_count": null,
      "metadata": {
        "id": "sg-nD1kivoE6"
      },
      "outputs": [],
      "source": [
        ""
      ]
    }
  ],
  "metadata": {
    "kernelspec": {
      "display_name": "Python 3",
      "language": "python",
      "name": "python3"
    },
    "colab": {
      "name": "Z13_C_MNIST.ipynb",
      "provenance": []
    }
  },
  "nbformat": 4,
  "nbformat_minor": 0
}