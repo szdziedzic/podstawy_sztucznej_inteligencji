{
  "cells": [
    {
      "cell_type": "code",
      "execution_count": 1,
      "metadata": {
        "id": "0yRc4k_Ir9ZT"
      },
      "outputs": [],
      "source": [
        "import numpy as np\n",
        "\n",
        "import matplotlib as mpl\n",
        "import matplotlib.pyplot as plt"
      ]
    },
    {
      "cell_type": "markdown",
      "metadata": {
        "id": "wZzVooXcr9ZX"
      },
      "source": [
        "# Zad\n",
        "Wygenerujmy punkty w kształcie prostej."
      ]
    },
    {
      "cell_type": "code",
      "execution_count": 2,
      "metadata": {
        "id": "z9lQ3Dv_r9ZZ",
        "outputId": "cf023fd0-619c-4335-fc3f-1749215ef42a",
        "colab": {
          "base_uri": "https://localhost:8080/",
          "height": 287
        }
      },
      "outputs": [
        {
          "output_type": "display_data",
          "data": {
            "text/plain": [
              "<Figure size 432x288 with 1 Axes>"
            ],
            "image/png": "[encoded data removed]"
          },
          "metadata": {
            "needs_background": "light"
          }
        }
      ],
      "source": [
        "X = 2 * np.random.rand(100, 1)\n",
        "y = 4 + 3 * X + np.random.randn(100, 1)\n",
        "\n",
        "plt.plot(X, y, \"b.\")\n",
        "plt.xlabel(\"$x_1$\", fontsize=18)\n",
        "plt.ylabel(\"$y$\", rotation=0, fontsize=18)\n",
        "plt.axis([0, 2, 0, 15])\n",
        "plt.show()"
      ]
    },
    {
      "cell_type": "markdown",
      "metadata": {
        "id": "m0N_rDY5r9Za"
      },
      "source": [
        "# Zad \n",
        "Wyznacz parametry prostej regresji (najmniejszych kwadratów) ze wzoru:\n",
        "\n",
        "$$\n",
        "\\theta= (X^TX)^{-1}  X^T  y; \n",
        "$$\n",
        "\n",
        "gdzie \n",
        "$$\n",
        "X = \n",
        "\\begin{bmatrix}\n",
        "1, x_1 \\\\\n",
        "1, x_2 \\\\\n",
        "\\vdots, \\vdots \\\\\n",
        "1, x_n \\\\\n",
        "\\end{bmatrix}\n",
        "$$\n",
        "\n",
        "Zwizualizuj wynik."
      ]
    },
    {
      "cell_type": "code",
      "execution_count": 3,
      "metadata": {
        "id": "6jwhZJERr9Zb",
        "outputId": "bbbc0af4-663e-4fae-9b73-05302e0e5e74",
        "colab": {
          "base_uri": "https://localhost:8080/"
        }
      },
      "outputs": [
        {
          "output_type": "execute_result",
          "data": {
            "text/plain": [
              "array([[4.07581144],\n",
              "       [3.02947813]])"
            ]
          },
          "metadata": {},
          "execution_count": 3
        }
      ],
      "source": [
        "X_b = np.c_[np.ones((100, 1)), X]  # add x0 = 1 to each instance\n",
        "theta_best = np.linalg.inv(X_b.T.dot(X_b)).dot(X_b.T).dot(y)\n",
        "\n",
        "theta_best"
      ]
    },
    {
      "cell_type": "code",
      "execution_count": 16,
      "metadata": {
        "id": "jjClxmxZr9Zb"
      },
      "outputs": [],
      "source": [
        "y_predict = theta_best[1]*X + theta_best[0] "
      ]
    },
    {
      "cell_type": "code",
      "execution_count": 17,
      "metadata": {
        "id": "E34SGUDVr9Zc",
        "outputId": "1bca1373-d61d-41a8-a703-867dbc4ed778",
        "colab": {
          "base_uri": "https://localhost:8080/",
          "height": 265
        }
      },
      "outputs": [
        {
          "output_type": "display_data",
          "data": {
            "text/plain": [
              "<Figure size 432x288 with 1 Axes>"
            ],
            "image/png": "[encoded data removed]"
          },
          "metadata": {
            "needs_background": "light"
          }
        }
      ],
      "source": [
        "plt.plot(X, y_predict, \"r-\")\n",
        "plt.plot(X, y, \"b.\")\n",
        "plt.axis([0, 2, 0, 15])\n",
        "plt.show()"
      ]
    },
    {
      "cell_type": "markdown",
      "metadata": {
        "id": "Rr2TztvLr9Zc"
      },
      "source": [
        "# Zad.\n",
        "Prównaj z wynikiem funkcji:\n",
        "```python\n",
        "LinearRegression()\n",
        "```"
      ]
    },
    {
      "cell_type": "code",
      "execution_count": 15,
      "metadata": {
        "id": "P1m-NeSJr9Zd",
        "outputId": "c353d2cc-b6dd-442b-9d33-e13fb03283b1",
        "colab": {
          "base_uri": "https://localhost:8080/",
          "height": 265
        }
      },
      "outputs": [
        {
          "output_type": "display_data",
          "data": {
            "text/plain": [
              "<Figure size 432x288 with 1 Axes>"
            ],
            "image/png": "[encoded data removed]"
          },
          "metadata": {
            "needs_background": "light"
          }
        }
      ],
      "source": [
        "from sklearn.linear_model import LinearRegression\n",
        "\n",
        "m2 = LinearRegression()\n",
        "m2.fit(X, y)\n",
        "m2.coef_\n",
        "plt.plot(X, m2.predict(X), \"r-\")\n",
        "plt.plot(X, y, \"b.\")\n",
        "plt.axis([0, 2, 0, 15])\n",
        "plt.show()"
      ]
    },
    {
      "cell_type": "markdown",
      "metadata": {
        "id": "GBumKADar9Ze"
      },
      "source": [
        "# Zad.\n",
        "Wykonaj algorytm minimalizacji gradientowej (w prostej petli).\n",
        "Wykorzystaj pochodną.\n",
        "\n",
        "Funkcja kosztu regresji:\n",
        "$$\n",
        "MSE(X;\\theta) = \\frac{1}{m} \\sum ( \\theta^T x_i - y_i  )^2.\n",
        "$$\n",
        "\n",
        "Pochodna funkcja kosztu regresji:\n",
        "\n",
        "$$\n",
        "\\frac{\\partial}{\\partial \\theta_j}MSE(X;\\theta) = \\frac{2}{m} \\sum ( \\theta^T x_i - y_i  )^2 x_i^{j}.\n",
        "$$\n",
        "\n",
        "Czyli gradient wynosi:\n",
        "\n",
        "$$\n",
        "\\nabla_{\\theta}MSE(X;\\theta) = \n",
        "\\begin{bmatrix}\n",
        "    \\frac{\\partial}{\\partial \\theta_0}MSE\\\\\n",
        "    \\frac{\\partial}{\\partial \\theta_1}MSE\\\\\n",
        "    \\vdots \\\\\n",
        "    \\frac{\\partial}{\\partial \\theta_d}MSE\n",
        "\\end{bmatrix}\n",
        "=\n",
        "\\frac{2}{m} X^T(\\theta^TX - Y  ).\n",
        "$$\n",
        "\n",
        "Metoda gradientowa\n",
        "\n",
        "$$\n",
        "\\theta^{\\small \\mbox{Nex step}} = \\theta - \\eta \\nabla_{\\theta} MSE\n",
        "$$\n",
        "\n",
        "### Zapisz wszystkie $\\theta$ w liście "
      ]
    },
    {
      "cell_type": "code",
      "execution_count": 21,
      "metadata": {
        "id": "eOWHAs97r9Ze",
        "outputId": "76e17d82-1a8e-461f-c8bc-ef494c20913e",
        "colab": {
          "base_uri": "https://localhost:8080/"
        }
      },
      "outputs": [
        {
          "output_type": "stream",
          "name": "stdout",
          "text": [
            "[[-2.33288302]\n",
            " [-0.42586497]]\n"
          ]
        }
      ],
      "source": [
        "eta = 0.1  # learning rate\n",
        "n_iterations = 1000\n",
        "m = 100\n",
        "theta_path_bgd = []\n",
        "\n",
        "theta_0 = np.random.randn(2,1)  # random initialization\n",
        "\n",
        "theta = theta_0\n",
        "\n",
        "print(theta)\n"
      ]
    },
    {
      "cell_type": "code",
      "execution_count": null,
      "metadata": {
        "id": "-YEvvim0r9Zf",
        "outputId": "8e29312e-e70f-46b6-a3b0-aae44569491a"
      },
      "outputs": [
        {
          "name": "stdout",
          "output_type": "stream",
          "text": [
            "[[4.09233193]\n",
            " [3.17205943]]\n"
          ]
        }
      ],
      "source": [
        ""
      ]
    },
    {
      "cell_type": "markdown",
      "metadata": {
        "id": "5meoiaH_r9Zf"
      },
      "source": [
        "# Zad\n",
        "Zaimplemrntu Stochastic Gradient Descent.\n",
        "\n",
        "### Zapisz wszystkie $\\theta$ w liście "
      ]
    },
    {
      "cell_type": "code",
      "execution_count": null,
      "metadata": {
        "id": "lk9wcQ8vr9Zg"
      },
      "outputs": [],
      "source": [
        "theta_path_sgd = []\n",
        "m = len(X_b)\n",
        "np.random.seed(42)"
      ]
    },
    {
      "cell_type": "code",
      "execution_count": null,
      "metadata": {
        "id": "a0wt1CIZr9Zg"
      },
      "outputs": [],
      "source": [
        "eta = 0.1  # learning rate\n",
        "n_iterations = 1000\n",
        "m = 100\n",
        "\n",
        "theta = theta_0\n"
      ]
    },
    {
      "cell_type": "code",
      "execution_count": null,
      "metadata": {
        "id": "tDRQPx2nr9Zh",
        "outputId": "0fd5e325-268a-47f1-e4cd-45a46a3209a7"
      },
      "outputs": [
        {
          "name": "stdout",
          "output_type": "stream",
          "text": [
            "[[4.56308925]\n",
            " [3.08139533]]\n"
          ]
        }
      ],
      "source": [
        ""
      ]
    },
    {
      "cell_type": "markdown",
      "metadata": {
        "id": "m8sE2Tejr9Zh"
      },
      "source": [
        "# Zad\n",
        "Zaimplemrntu Mini-batch gradient descent\n",
        "\n",
        "### Zapisz wszystkie $\\theta$ w liście "
      ]
    },
    {
      "cell_type": "code",
      "execution_count": null,
      "metadata": {
        "id": "d6zHcywHr9Zh"
      },
      "outputs": [],
      "source": [
        "theta_path_mgd = []\n",
        "\n",
        "n_iterations = 50\n",
        "minibatch_size = 20\n",
        "\n",
        "theta = theta_0"
      ]
    },
    {
      "cell_type": "code",
      "execution_count": null,
      "metadata": {
        "id": "2IZlgnA2r9Zi"
      },
      "outputs": [],
      "source": [
        "print(theta)"
      ]
    },
    {
      "cell_type": "markdown",
      "metadata": {
        "id": "f-BhgXpkr9Zi"
      },
      "source": [
        "# Zad\n",
        "Narysuj jak zmieniały parametr w różnych metodach."
      ]
    },
    {
      "cell_type": "code",
      "execution_count": null,
      "metadata": {
        "id": "GAimBAy8r9Zi"
      },
      "outputs": [],
      "source": [
        "theta_path_bgd = np.array(theta_path_bgd)\n",
        "theta_path_sgd = np.array(theta_path_sgd)\n",
        "theta_path_mgd = np.array(theta_path_mgd)"
      ]
    },
    {
      "cell_type": "code",
      "execution_count": null,
      "metadata": {
        "id": "nGL7o7NUr9Zi",
        "outputId": "0ceb435a-268b-4023-9966-58ced1c2f6a1"
      },
      "outputs": [
        {
          "data": {
            "image/png": "[encoded data removed]",
            "text/plain": [
              "<Figure size 504x288 with 1 Axes>"
            ]
          },
          "metadata": {
            "needs_background": "light"
          },
          "output_type": "display_data"
        }
      ],
      "source": [
        ""
      ]
    },
    {
      "cell_type": "code",
      "execution_count": null,
      "metadata": {
        "id": "g9Nxls0Cr9Zi"
      },
      "outputs": [],
      "source": [
        ""
      ]
    }
  ],
  "metadata": {
    "kernelspec": {
      "display_name": "Python 3",
      "language": "python",
      "name": "python3"
    },
    "language_info": {
      "codemirror_mode": {
        "name": "ipython",
        "version": 3
      },
      "file_extension": ".py",
      "mimetype": "text/x-python",
      "name": "python",
      "nbconvert_exporter": "python",
      "pygments_lexer": "ipython3",
      "version": "3.7.3"
    },
    "colab": {
      "name": "Z11_C_Gradient_Descent_Regression.ipynb",
      "provenance": []
    }
  },
  "nbformat": 4,
  "nbformat_minor": 0
}